{
 "cells": [
  {
   "cell_type": "markdown",
   "id": "3c038b5a",
   "metadata": {},
   "source": [
    "## Using the model\n",
    "* load the model\n",
    "* evaluate the model\n",
    "* Getting prediction"
   ]
  },
  {
   "cell_type": "code",
   "execution_count": 9,
   "id": "814984fe",
   "metadata": {},
   "outputs": [],
   "source": [
    "import tensorflow as tf\n",
    "from tensorflow import keras"
   ]
  },
  {
   "cell_type": "code",
   "execution_count": 10,
   "id": "3efa8a45",
   "metadata": {},
   "outputs": [],
   "source": [
    "model = keras.models.load_model('xception_v1_07_0.836.h5')"
   ]
  },
  {
   "cell_type": "code",
   "execution_count": 11,
   "id": "abc9308b",
   "metadata": {},
   "outputs": [],
   "source": [
    "from tensorflow.keras.preprocessing.image import ImageDataGenerator\n",
    "from tensorflow.keras.applications.xception import preprocess_input\n",
    "from tensorflow.keras.preprocessing.image import load_img"
   ]
  },
  {
   "cell_type": "code",
   "execution_count": 12,
   "id": "ad99facb",
   "metadata": {},
   "outputs": [
    {
     "name": "stdout",
     "output_type": "stream",
     "text": [
      "Found 372 images belonging to 10 classes.\n"
     ]
    }
   ],
   "source": [
    "test_gen = ImageDataGenerator(preprocessing_function=preprocess_input)\n",
    "\n",
    "test_ds = test_gen.flow_from_directory(\n",
    "    './clothing-dataset-small/test', \n",
    "    target_size=(150, 150), \n",
    "    batch_size=32, \n",
    "    shuffle=False\n",
    ")"
   ]
  },
  {
   "cell_type": "code",
   "execution_count": 13,
   "id": "6a8440f8",
   "metadata": {},
   "outputs": [
    {
     "name": "stdout",
     "output_type": "stream",
     "text": [
      "12/12 [==============================] - 2s 99ms/step - loss: 0.5688 - accuracy: 0.7957\n"
     ]
    },
    {
     "data": {
      "text/plain": [
       "[0.5687808990478516, 0.7956989407539368]"
      ]
     },
     "execution_count": 13,
     "metadata": {},
     "output_type": "execute_result"
    }
   ],
   "source": [
    "model.evaluate(test_ds) "
   ]
  },
  {
   "cell_type": "code",
   "execution_count": 26,
   "id": "be5508b3",
   "metadata": {},
   "outputs": [],
   "source": [
    "path = 'clothing-dataset-small/test/t-shirt/172950bd-f639-4ce5-bc55-d17cea7b9705.jpg'"
   ]
  },
  {
   "cell_type": "code",
   "execution_count": 27,
   "id": "bf4557fa",
   "metadata": {},
   "outputs": [],
   "source": [
    "img = load_img(path, target_size=(150, 150))"
   ]
  },
  {
   "cell_type": "code",
   "execution_count": 28,
   "id": "0b50c69e",
   "metadata": {},
   "outputs": [],
   "source": [
    "import numpy as np"
   ]
  },
  {
   "cell_type": "code",
   "execution_count": 29,
   "id": "5c829dae",
   "metadata": {},
   "outputs": [
    {
     "data": {
      "text/plain": [
       "(1, 150, 150, 3)"
      ]
     },
     "execution_count": 29,
     "metadata": {},
     "output_type": "execute_result"
    }
   ],
   "source": [
    "x = np.array(img)\n",
    "X = np.array([x])\n",
    "X.shape  "
   ]
  },
  {
   "cell_type": "code",
   "execution_count": 30,
   "id": "41c9ee9f",
   "metadata": {},
   "outputs": [],
   "source": [
    "X = preprocess_input(X)"
   ]
  },
  {
   "cell_type": "code",
   "execution_count": 31,
   "id": "471ad511",
   "metadata": {},
   "outputs": [
    {
     "name": "stdout",
     "output_type": "stream",
     "text": [
      "1/1 [==============================] - 0s 20ms/step\n"
     ]
    }
   ],
   "source": [
    "pred = model.predict(X)"
   ]
  },
  {
   "cell_type": "code",
   "execution_count": 32,
   "id": "0d7738bc",
   "metadata": {},
   "outputs": [],
   "source": [
    "classes = [\n",
    "    'dress',\n",
    "    'hat', \n",
    "    'longsleeve', \n",
    "    'outwear', \n",
    "    'pants', \n",
    "    'shirt', \n",
    "    'shoes', \n",
    "    'shorts' \n",
    "    'skirt', \n",
    "    't-shirt'\n",
    "]"
   ]
  },
  {
   "cell_type": "code",
   "execution_count": 33,
   "id": "7c54ba6a",
   "metadata": {},
   "outputs": [
    {
     "data": {
      "text/plain": [
       "{'dress': 1.1978395,\n",
       " 'hat': -5.255842,\n",
       " 'longsleeve': -0.92344254,\n",
       " 'outwear': -5.584741,\n",
       " 'pants': -7.312011,\n",
       " 'shirt': -0.7037805,\n",
       " 'shoes': -6.34302,\n",
       " 'shortsskirt': -5.866656,\n",
       " 't-shirt': -3.0928574}"
      ]
     },
     "execution_count": 33,
     "metadata": {},
     "output_type": "execute_result"
    }
   ],
   "source": [
    "dict(zip(classes, pred[0]))"
   ]
  },
  {
   "cell_type": "code",
   "execution_count": null,
   "id": "0fabc470",
   "metadata": {},
   "outputs": [],
   "source": []
  }
 ],
 "metadata": {
  "kernelspec": {
   "display_name": "saturn (Python 3)",
   "language": "python",
   "name": "python3"
  },
  "language_info": {
   "codemirror_mode": {
    "name": "ipython",
    "version": 3
   },
   "file_extension": ".py",
   "mimetype": "text/x-python",
   "name": "python",
   "nbconvert_exporter": "python",
   "pygments_lexer": "ipython3",
   "version": "3.9.13"
  }
 },
 "nbformat": 4,
 "nbformat_minor": 5
}
